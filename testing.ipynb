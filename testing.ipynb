{
 "cells": [
  {
   "cell_type": "code",
   "execution_count": null,
   "metadata": {},
   "outputs": [],
   "source": [
    "# !python -m spacy download en_core_web_lg"
   ]
  },
  {
   "cell_type": "code",
   "execution_count": 50,
   "metadata": {},
   "outputs": [
    {
     "name": "stderr",
     "output_type": "stream",
     "text": [
      "Exception ignored in: <function WeakKeyDictionary.__init__.<locals>.remove at 0x0000020282177700>\n",
      "Traceback (most recent call last):\n",
      "  File \"e:\\Applications\\Anaconda\\envs\\swamphacks\\lib\\weakref.py\", line 371, in remove\n",
      "    self = selfref()\n",
      "KeyboardInterrupt: \n"
     ]
    }
   ],
   "source": [
    "import spacy\n",
    "import random\n",
    "import requests\n",
    "nlp = spacy.load('en_core_web_lg')\n",
    "\n",
    "def wikiExplainer(title, removeEscapeChars=True, explainerLength=3):\n",
    "    \n",
    "    response = requests.get(\n",
    "         'https://en.wikipedia.org/w/api.php',\n",
    "         params={\n",
    "             'action': 'query',\n",
    "             'format': 'json',\n",
    "             'titles': title,\n",
    "             'prop': 'extracts',\n",
    "             'exintro': True,\n",
    "             'explaintext': True,\n",
    "         }).json()\n",
    "    response = requests.get(\"https://en.wikipedia.org/w/api.php?format=json&action=query&prop=extracts&exlimit=max&explaintext&exintro&titles=\" + title.replace(\" \", \"_\") + \"|\" + title.replace(\" \", \"_\") + \"&redirects=\").json()\n",
    "    explainer = next(iter(response['query']['pages'].values()))\n",
    "    if 'extract' in explainer:\n",
    "        explainer = explainer['extract']\n",
    "        if removeEscapeChars:\n",
    "            explainer = ''.join(c for c in explainer if c.isalnum() or c==' ')\n",
    "            explainer = explainer.replace(\"\\n\", \" \")\n",
    "    else:\n",
    "        explainer = \"\"\n",
    "\n",
    "    doc = nlp(explainer)\n",
    "    explainer = \"\"\n",
    "    for j,sentence in enumerate(doc.sents):\n",
    "        if(j+1 > explainerLength):\n",
    "            break\n",
    "        else:\n",
    "            explainer += str(sentence.text) + \" \"\n",
    "    return explainer\n",
    "\n",
    "import pandas as pd\n",
    "\n",
    "df = pd.read_csv(\"age.csv\")\n",
    "HISTORY_DATAFRAME = df\n",
    "\n",
    "class Person:\n",
    "    def __init__(self, person: pd.core.series.Series):\n",
    "        templist = list(person)\n",
    "        self.name = templist[1]\n",
    "        self.desc = templist[2]\n",
    "        self.gender = templist[3]\n",
    "        self.country = templist[4]\n",
    "        self.occupation = templist[5]\n",
    "        self.birth = templist[6]\n",
    "        self.death = templist[7]\n",
    "        self.manner = templist[8]\n",
    "        self.age = templist[9]\n",
    "        self.wikidata = wikiExplainer(templist[1], removeEscapeChars=False)\n",
    "\n",
    "    def __str__(self):\n",
    "        return f\"{self.occupation} {self.name}, {self.birth}-{self.death}, Age: {self.death-self.birth}\"\n"
   ]
  },
  {
   "cell_type": "code",
   "execution_count": 2,
   "metadata": {},
   "outputs": [
    {
     "name": "stderr",
     "output_type": "stream",
     "text": [
      "C:\\Users\\Patrick\\AppData\\Local\\Temp\\ipykernel_16376\\1315195193.py:2: DtypeWarning: Columns (7) have mixed types. Specify dtype option on import or set low_memory=False.\n",
      "  df_movies = pd.read_csv(\"data_movies.csv\")\n"
     ]
    }
   ],
   "source": [
    "import pandas as pd\n",
    "df_movies = pd.read_csv(\"data_movies.csv\")\n",
    "MOVIES_DATAFRAME = df_movies\n",
    "MOVIES_DATAFRAME[\"startYear\"] = MOVIES_DATAFRAME[\"startYear\"].astype(int)\n",
    "MOVIES_DATAFRAME[\"endYear\"] = MOVIES_DATAFRAME[\"endYear\"].astype(int)"
   ]
  },
  {
   "cell_type": "code",
   "execution_count": 6,
   "metadata": {},
   "outputs": [],
   "source": [
    "import pandas as pd\n",
    "df = pd.read_csv(\"age.csv\")"
   ]
  },
  {
   "cell_type": "code",
   "execution_count": null,
   "metadata": {},
   "outputs": [],
   "source": [
    "import numpy as np"
   ]
  },
  {
   "cell_type": "code",
   "execution_count": 7,
   "metadata": {},
   "outputs": [],
   "source": [
    "df[\"Birth year\"] = df[\"Birth year\"].astype(int)"
   ]
  },
  {
   "cell_type": "code",
   "execution_count": 3,
   "metadata": {},
   "outputs": [],
   "source": [
    "import pickle\n",
    "age = pickle.load(open(\"age-movies.pkl\", \"rb\"))\n",
    "keys = sorted(age.keys())"
   ]
  },
  {
   "cell_type": "code",
   "execution_count": 17,
   "metadata": {},
   "outputs": [
    {
     "data": {
      "text/plain": [
       "693807"
      ]
     },
     "execution_count": 17,
     "metadata": {},
     "output_type": "execute_result"
    }
   ],
   "source": [
    "len(df)"
   ]
  },
  {
   "cell_type": "code",
   "execution_count": 14,
   "metadata": {},
   "outputs": [
    {
     "data": {
      "text/plain": [
       "[1894,\n",
       " 1896,\n",
       " 1897,\n",
       " 1898,\n",
       " 1899,\n",
       " 1900,\n",
       " 1901,\n",
       " 1902,\n",
       " 1903,\n",
       " 1904,\n",
       " 1905,\n",
       " 1906,\n",
       " 1907,\n",
       " 1908,\n",
       " 1909,\n",
       " 1910,\n",
       " 1911,\n",
       " 1912,\n",
       " 1913,\n",
       " 1914,\n",
       " 1915,\n",
       " 1916,\n",
       " 1917,\n",
       " 1918,\n",
       " 1919,\n",
       " 1920,\n",
       " 1921,\n",
       " 1922,\n",
       " 1923,\n",
       " 1924,\n",
       " 1925,\n",
       " 1926,\n",
       " 1927,\n",
       " 1928,\n",
       " 1929,\n",
       " 1930,\n",
       " 1931,\n",
       " 1932,\n",
       " 1933,\n",
       " 1934,\n",
       " 1935,\n",
       " 1936,\n",
       " 1937,\n",
       " 1938,\n",
       " 1939,\n",
       " 1940,\n",
       " 1941,\n",
       " 1942,\n",
       " 1943,\n",
       " 1944,\n",
       " 1945,\n",
       " 1946,\n",
       " 1947,\n",
       " 1948,\n",
       " 1949,\n",
       " 1950,\n",
       " 1951,\n",
       " 1952,\n",
       " 1953,\n",
       " 1954,\n",
       " 1955,\n",
       " 1956,\n",
       " 1957,\n",
       " 1958,\n",
       " 1959,\n",
       " 1960,\n",
       " 1961,\n",
       " 1962,\n",
       " 1963,\n",
       " 1964,\n",
       " 1965,\n",
       " 1966,\n",
       " 1967,\n",
       " 1968,\n",
       " 1969,\n",
       " 1970,\n",
       " 1971,\n",
       " 1972,\n",
       " 1973,\n",
       " 1974,\n",
       " 1975,\n",
       " 1976,\n",
       " 1977,\n",
       " 1978,\n",
       " 1979,\n",
       " 1980,\n",
       " 1981,\n",
       " 1982,\n",
       " 1983,\n",
       " 1984,\n",
       " 1985,\n",
       " 1986,\n",
       " 1987,\n",
       " 1988,\n",
       " 1989,\n",
       " 1990,\n",
       " 1991,\n",
       " 1992,\n",
       " 1993,\n",
       " 1994,\n",
       " 1995,\n",
       " 1996,\n",
       " 1997,\n",
       " 1998,\n",
       " 1999,\n",
       " 2000,\n",
       " 2001,\n",
       " 2002,\n",
       " 2003,\n",
       " 2004,\n",
       " 2005,\n",
       " 2006,\n",
       " 2007,\n",
       " 2008,\n",
       " 2009,\n",
       " 2010,\n",
       " 2011,\n",
       " 2012,\n",
       " 2013,\n",
       " 2014,\n",
       " 2015,\n",
       " 2016,\n",
       " 2017,\n",
       " 2018,\n",
       " 2019,\n",
       " 2020,\n",
       " 2021,\n",
       " 2022,\n",
       " 2023,\n",
       " 2024,\n",
       " 2025,\n",
       " 2026,\n",
       " 2027,\n",
       " 2028,\n",
       " 2029]"
      ]
     },
     "execution_count": 14,
     "metadata": {},
     "output_type": "execute_result"
    }
   ],
   "source": [
    "keys"
   ]
  },
  {
   "cell_type": "code",
   "execution_count": 15,
   "metadata": {},
   "outputs": [],
   "source": [
    "df = df[df[\"Birth year\"] < 2020]"
   ]
  },
  {
   "cell_type": "code",
   "execution_count": null,
   "metadata": {},
   "outputs": [],
   "source": [
    "df.to_csv(\"ages_trimmed.csv\")"
   ]
  },
  {
   "cell_type": "code",
   "execution_count": null,
   "metadata": {},
   "outputs": [],
   "source": [
    "#sort dataframe then randomly remove 3/4 of movies\n",
    "import pandas as pd\n",
    "import numpy as np\n",
    "np.random.seed(10)\n",
    "s\n",
    "remove_n = len(MOVIES_DATAFRAME)//2\n",
    "drop_indices = np.random.choice(MOVIES_DATAFRAME.index, remove_n, replace=False)\n",
    "df_subset = MOVIES_DATAFRAME.drop(drop_indices)"
   ]
  },
  {
   "cell_type": "code",
   "execution_count": 91,
   "metadata": {},
   "outputs": [
    {
     "data": {
      "application/vnd.jupyter.widget-view+json": {
       "model_id": "b5edc687c0274e14a5fc674f4cfb54f2",
       "version_major": 2,
       "version_minor": 0
      },
      "text/plain": [
       "  0%|          | 0/7934399 [00:00<?, ?it/s]"
      ]
     },
     "metadata": {},
     "output_type": "display_data"
    }
   ],
   "source": [
    "from tqdm.notebook import tqdm\n",
    "master_dict = {}\n",
    "for i, val in tqdm(enumerate(MOVIES_DATAFRAME.iterrows()), total=len(MOVIES_DATAFRAME)):\n",
    "    temp_dict = MOVIES_DATAFRAME.iloc[i].to_dict()\n",
    "    master_dict.setdefault(temp_dict['startYear'], []).append(temp_dict)\n",
    "    "
   ]
  },
  {
   "cell_type": "code",
   "execution_count": 1,
   "metadata": {},
   "outputs": [],
   "source": []
  },
  {
   "cell_type": "code",
   "execution_count": 47,
   "metadata": {},
   "outputs": [],
   "source": [
    "class BSTNode:\n",
    "    def __init__(self, blob=None):\n",
    "        self.left = None\n",
    "        self.right = None\n",
    "        self.key = blob[0]\n",
    "        self.dict = blob[1]\n",
    "\n",
    "\n",
    "    def insert(self, blob):\n",
    "        if not self.key:\n",
    "            self.key = blob[0]\n",
    "            self.dict = blob[1]\n",
    "            return\n",
    "        if self.key == blob[0]: #already in tree\n",
    "            return\n",
    "\n",
    "        if blob[0] < self.key:#left insert case\n",
    "            if self.left:\n",
    "                self.left.insert(blob)\n",
    "                return\n",
    "            self.left = BSTNode(blob)\n",
    "            return\n",
    "\n",
    "        if self.right:#right insert case\n",
    "            self.right.insert(blob)\n",
    "            return\n",
    "        self.right = BSTNode(blob)\n",
    "\n",
    "    def search(self, key):\n",
    "        if key == self.key:\n",
    "            return self.dict\n",
    "\n",
    "        if key < self.key:\n",
    "            if self.left == None:\n",
    "                return False\n",
    "            return self.left.search(key)\n",
    "\n",
    "        if self.right == None:\n",
    "            return False\n",
    "        return self.right.search(key)\n",
    "\n",
    "\n",
    "def reformat(lis):\n",
    "    dict_list = []\n",
    "    for item in lis:\n",
    "        new_dict = {}\n",
    "        new_dict['Media Type'] = item[\"titleType\"]\n",
    "        new_dict[\"Title\"] = item['primaryTitle']\n",
    "        dict_list.append(new_dict)\n",
    "   \n",
    "    return [lis[0]['startYear'],dict_list]\n",
    "\n",
    "\n",
    "print(f\"Age Size: {len(age)}\")\n",
    "head = BSTNode(reformat(age[keys[0]]))\n",
    "for val in keys[1:]:\n",
    "    head.insert(reformat(age[val]))"
   ]
  },
  {
   "cell_type": "code",
   "execution_count": 2,
   "metadata": {},
   "outputs": [],
   "source": [
    "import pickle\n",
    "age = pickle.load(open(\"age-movies.pkl\", \"rb\"))\n",
    "keys = sorted(age.keys())\n",
    "head = BSTNode(reformat(age[keys[0]]))\n",
    "for val in keys[1:]:\n",
    "    head.insert(reformat(age[val]))"
   ]
  },
  {
   "cell_type": "code",
   "execution_count": 48,
   "metadata": {},
   "outputs": [
    {
     "name": "stdout",
     "output_type": "stream",
     "text": [
      "Age Size: 136\n"
     ]
    }
   ],
   "source": [
    "\n",
    "\n",
    "# head = BSTNode(val)"
   ]
  }
 ],
 "metadata": {
  "kernelspec": {
   "display_name": "Python 3.9.10 ('swamphacks')",
   "language": "python",
   "name": "python3"
  },
  "language_info": {
   "codemirror_mode": {
    "name": "ipython",
    "version": 3
   },
   "file_extension": ".py",
   "mimetype": "text/x-python",
   "name": "python",
   "nbconvert_exporter": "python",
   "pygments_lexer": "ipython3",
   "version": "3.9.10"
  },
  "orig_nbformat": 4,
  "vscode": {
   "interpreter": {
    "hash": "6a4907715359045b8a2ace855fc06a352fe7b25f30531dd2e3f9c93331a0a772"
   }
  }
 },
 "nbformat": 4,
 "nbformat_minor": 2
}
